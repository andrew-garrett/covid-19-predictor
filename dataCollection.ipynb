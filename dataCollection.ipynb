{
  "nbformat": 4,
  "nbformat_minor": 0,
  "metadata": {
    "colab": {
      "name": "dataCollection.ipynb",
      "provenance": [],
      "collapsed_sections": [],
      "include_colab_link": true
    },
    "kernelspec": {
      "name": "python3",
      "display_name": "Python 3"
    }
  },
  "cells": [
    {
      "cell_type": "markdown",
      "metadata": {
        "id": "view-in-github",
        "colab_type": "text"
      },
      "source": [
        "<a href=\"https://colab.research.google.com/github/geande/covid-19-predictor/blob/main/dataCollection.ipynb\" target=\"_parent\"><img src=\"https://colab.research.google.com/assets/colab-badge.svg\" alt=\"Open In Colab\"/></a>"
      ]
    },
    {
      "cell_type": "code",
      "metadata": {
        "id": "7ouZw-9jrv_t"
      },
      "source": [
        "import pandas\r\n",
        "import jax.numpy as np\r\n",
        "import matplotlib.pyplot as plt"
      ],
      "execution_count": null,
      "outputs": []
    },
    {
      "cell_type": "code",
      "metadata": {
        "id": "Ni_xt3oJRCsh"
      },
      "source": [
        "# Create a dictionary of all existing state .csv repositories for looping\r\n",
        "csvDictionary = ['alabama-history.csv', 'alaska-history.csv', 'arizona-history.csv', \r\n",
        "                         'arkansas-history.csv', 'california-history.csv', 'colorado-history.csv',\r\n",
        "                         'connecticut-history.csv', 'delaware-history.csv', 'florida-history.csv', \r\n",
        "                         'georgia-history.csv', 'hawaii-history.csv', 'idaho-history.csv', 'illinois-history.csv',\r\n",
        "                         'indiana-history.csv', 'iowa-history.csv', 'kansas-history.csv', 'kentucky-history.csv',\r\n",
        "                         'louisiana-history.csv', 'maine-history.csv', 'maryland-history.csv', 'massachusetts-history.csv', \r\n",
        "                         'michigan-history.csv', 'minnesota-history.csv', 'mississippi-history.csv', 'missouri-history.csv', \r\n",
        "                         'montana-history.csv', 'nebraska-history.csv', 'nevada-history.csv', 'new-hampshire-history.csv',\r\n",
        "                         'new-jersey-history.csv', 'new-mexico-history.csv', 'new-york-history.csv', 'north-carolina-history.csv',\r\n",
        "                         'north-dakota-history.csv', 'ohio-history.csv', 'oklahoma-history.csv', 'oregon-history.csv',\r\n",
        "                         'pennsylvania-history.csv', 'rhode-island-history.csv', 'south-carolina-history.csv', 'south-dakota-history.csv',\r\n",
        "                         'tennessee-history.csv', 'texas-history.csv', 'utah-history.csv', 'vermont-history.csv', 'virginia-history.csv',\r\n",
        "                         'washington-history.csv', 'west-virginia-history.csv', 'wisconsin-history.csv', 'wyoming-history.csv',]"
      ],
      "execution_count": null,
      "outputs": []
    },
    {
      "cell_type": "code",
      "metadata": {
        "id": "z9bs9et_Yn9J"
      },
      "source": [
        "pops = pandas.read_csv('/State Populations.csv', index_col=['State'], usecols=['State', '2018 Population'])\r\n",
        "sorted = pops.sort_index()\r\n",
        "iter = sorted.iterrows()\r\n",
        "\r\n",
        "populations = []\r\n",
        "state_names = []\r\n",
        "\r\n",
        "for i,j in iter:\r\n",
        "  state_name = i\r\n",
        "  if (not (state_name == 'District of Columbia')):\r\n",
        "    population = j['2018 Population']\r\n",
        "    populations.append(population)\r\n",
        "    state_names.append(state_name)"
      ],
      "execution_count": null,
      "outputs": []
    },
    {
      "cell_type": "code",
      "metadata": {
        "id": "QX1qjOpXrGhh"
      },
      "source": [
        "def state_basis(state_history, population, state_name):\r\n",
        "  path = 'https://covidtracking.com/data/download/'\r\n",
        "  dat = path + state_history\r\n",
        "  print(dat)\r\n",
        "  txt = pandas.read_csv(dat, index_col=['date'], usecols=['date', 'dataQualityGrade', 'positive', 'positiveIncrease', 'death', 'recovered'])\r\n",
        "  N = population\r\n",
        "\r\n",
        "  # use this as a basic filter for data accuracy (alot of states have really poor data in the early onset of Covid-19)\r\n",
        "  lockdown_approx = 0\r\n",
        "\r\n",
        "  # here im iterating through the csv and collecting the data for each of the fields that were interested in tracking\r\n",
        "  positive = []\r\n",
        "  positiveInc = []\r\n",
        "  death = []\r\n",
        "  recovered = []\r\n",
        "\r\n",
        "  oter = txt.iterrows()\r\n",
        "\r\n",
        "  for x,y in oter:\r\n",
        "\r\n",
        "    I = 0\r\n",
        "    I_inc = 0\r\n",
        "    D = 0\r\n",
        "    R = 0\r\n",
        "\r\n",
        "    if (y[\"positive\"] >= 0):\r\n",
        "      I = y[\"positive\"]\r\n",
        "    if (y[\"positiveIncrease\"] >= 0):\r\n",
        "      I_inc = y[\"positiveIncrease\"]\r\n",
        "    if (y[\"death\"] >= 0):\r\n",
        "      D = y[\"death\"]\r\n",
        "    if (y[\"recovered\"] >= 0):\r\n",
        "      R = y[\"recovered\"]\r\n",
        "\r\n",
        "    positive.append(I)\r\n",
        "    positiveInc.append(I_inc)\r\n",
        "    death.append(D)\r\n",
        "    recovered.append(R)\r\n",
        "\r\n",
        "\r\n",
        "  positive.reverse()\r\n",
        "  positiveInc.reverse()\r\n",
        "  death.reverse()\r\n",
        "  recovered.reverse()\r\n",
        "\r\n",
        "  Infected_data = np.array(positive[lockdown_approx:]) # state tracking the total infected individuals\r\n",
        "\r\n",
        "  Deceased_data = np.array(death[lockdown_approx:]) # state tracking the total deceased individuals\r\n",
        "\r\n",
        "  Recovered_data = np.array(recovered[lockdown_approx:]) # state tracking the total recovered individuals\r\n",
        "\r\n",
        "  Removed_data = np.add(Recovered_data, Deceased_data) # state tracking the total number of removed individuals\r\n",
        "\r\n",
        "  CurrentlyInfected_data = np.subtract(Infected_data, Removed_data)\r\n",
        "\r\n",
        "  CumulativeCaseload_data = Infected_data # state tracking the cumulative caseload fraction\r\n",
        "\r\n",
        "  Susceptible_data = N - CumulativeCaseload_data # state tracking the susceptible fraction\r\n",
        "\r\n",
        "  data_Collected = np.vstack((Susceptible_data, CurrentlyInfected_data, Recovered_data, Deceased_data, CumulativeCaseload_data))\r\n",
        "\r\n",
        "  plt.figure(figsize=(25,10), facecolor=\"w\")\r\n",
        "  plt.subplot(1,2,1)\r\n",
        "  plt.plot(CurrentlyInfected_data)\r\n",
        "  plt.plot(Recovered_data)\r\n",
        "  plt.plot(Deceased_data)\r\n",
        "  plt.plot(Removed_data)\r\n",
        "  plt.plot(CumulativeCaseload_data)\r\n",
        "  plt.title(\"Covid-19 Dynamics in \" + state_name)\r\n",
        "  plt.xlabel(\"Time (days)\")\r\n",
        "  plt.xlim(left=lockdown_approx)\r\n",
        "  plt.ylabel(\"Number of Individuals\")\r\n",
        "  plt.legend((\"Currently Infected\", \"Recovered\", \"Deceased\", \"Removed\", \"Cumulative Caseload\"))\r\n",
        "  plt.subplot(1,2,2)\r\n",
        "  plt.plot(Susceptible_data)\r\n",
        "  plt.title(\"Population Susceptible to Covid-19 in \" + state_name)\r\n",
        "  plt.xlabel(\"Time (days)\")\r\n",
        "  plt.ylabel(\"Number of Individuals\")\r\n",
        "\r\n",
        "  return data_Collected"
      ],
      "execution_count": null,
      "outputs": []
    },
    {
      "cell_type": "markdown",
      "metadata": {
        "id": "jw1I-k7TqJpv"
      },
      "source": [
        "Need to find a way to effectively import all the data as CSVs\r\n",
        "\r\n",
        "We have done so by creating a list of all the data collected by each state.  Each index in the list matches the index of the state name in the sorted list states."
      ]
    },
    {
      "cell_type": "code",
      "metadata": {
        "id": "c9E3rvTgSwCb"
      },
      "source": [
        "all_states_data = []\r\n",
        "\r\n",
        "for i in range(0, len(csvDictionary)):\r\n",
        "  arr = state_basis(csvDictionary[i], populations[i], state_names[i])\r\n",
        "  all_states_data.append(arr)"
      ],
      "execution_count": null,
      "outputs": []
    }
  ]
}